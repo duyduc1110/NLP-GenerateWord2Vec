{
 "cells": [
  {
   "cell_type": "code",
   "execution_count": 1,
   "metadata": {},
   "outputs": [
    {
     "name": "stderr",
     "output_type": "stream",
     "text": [
      "C:\\Users\\MrBonBon\\Miniconda3\\lib\\site-packages\\gensim\\utils.py:1197: UserWarning: detected Windows; aliasing chunkize to chunkize_serial\n",
      "  warnings.warn(\"detected Windows; aliasing chunkize to chunkize_serial\")\n"
     ]
    },
    {
     "name": "stdout",
     "output_type": "stream",
     "text": [
      "1\n"
     ]
    }
   ],
   "source": [
    "import logging\n",
    "from gensim.models import word2vec\n",
    "print(word2vec.FAST_VERSION)"
   ]
  },
  {
   "cell_type": "code",
   "execution_count": 2,
   "metadata": {},
   "outputs": [
    {
     "name": "stderr",
     "output_type": "stream",
     "text": [
      "2019-09-11 21:32:13,395 : INFO : collecting all words and their counts\n",
      "C:\\Users\\MrBonBon\\Miniconda3\\lib\\site-packages\\smart_open\\smart_open_lib.py:398: UserWarning: This function is deprecated, use smart_open.open instead. See the migration notes for details: https://github.com/RaRe-Technologies/smart_open/blob/master/README.rst#migrating-to-the-new-open-function\n",
      "  'See the migration notes for details: %s' % _MIGRATION_NOTES_URL\n",
      "2019-09-11 21:32:14,898 : INFO : PROGRESS: at sentence #0, processed 0 words, keeping 0 word types\n",
      "2019-09-11 21:32:18,216 : INFO : collected 253854 word types from a corpus of 17005207 raw words and 1701 sentences\n",
      "2019-09-11 21:32:18,217 : INFO : Loading a fresh vocabulary\n",
      "2019-09-11 21:32:18,498 : INFO : min_count=5 retains 71290 unique words (28% of original 253854, drops 182564)\n",
      "2019-09-11 21:32:18,498 : INFO : min_count=5 leaves 16718844 word corpus (98% of original 17005207, drops 286363)\n",
      "2019-09-11 21:32:18,695 : INFO : deleting the raw counts dictionary of 253854 items\n",
      "2019-09-11 21:32:18,741 : INFO : sample=0.001 downsamples 38 most-common words\n",
      "2019-09-11 21:32:18,742 : INFO : downsampling leaves estimated 12506280 word corpus (74.8% of prior 16718844)\n",
      "2019-09-11 21:32:18,946 : INFO : estimated required memory for 71290 words and 300 dimensions: 206741000 bytes\n",
      "2019-09-11 21:32:18,947 : INFO : resetting layer weights\n",
      "2019-09-11 21:32:19,772 : INFO : training model with 3 workers on 71290 vocabulary and 300 features, using sg=0 hs=0 sample=0.001 negative=5 window=5\n",
      "2019-09-11 21:32:21,227 : INFO : EPOCH 1 - PROGRESS: at 0.06% examples, 5332 words/s, in_qsize 5, out_qsize 0\n",
      "2019-09-11 21:32:22,230 : INFO : EPOCH 1 - PROGRESS: at 6.47% examples, 326858 words/s, in_qsize 5, out_qsize 0\n",
      "2019-09-11 21:32:23,238 : INFO : EPOCH 1 - PROGRESS: at 12.93% examples, 463983 words/s, in_qsize 5, out_qsize 0\n",
      "2019-09-11 21:32:24,239 : INFO : EPOCH 1 - PROGRESS: at 19.22% examples, 536000 words/s, in_qsize 5, out_qsize 0\n",
      "2019-09-11 21:32:25,239 : INFO : EPOCH 1 - PROGRESS: at 25.46% examples, 581242 words/s, in_qsize 5, out_qsize 0\n",
      "2019-09-11 21:32:26,254 : INFO : EPOCH 1 - PROGRESS: at 31.69% examples, 612024 words/s, in_qsize 5, out_qsize 0\n",
      "2019-09-11 21:32:27,269 : INFO : EPOCH 1 - PROGRESS: at 38.04% examples, 636142 words/s, in_qsize 5, out_qsize 0\n",
      "2019-09-11 21:32:28,284 : INFO : EPOCH 1 - PROGRESS: at 44.39% examples, 653696 words/s, in_qsize 5, out_qsize 0\n",
      "2019-09-11 21:32:29,291 : INFO : EPOCH 1 - PROGRESS: at 50.73% examples, 668550 words/s, in_qsize 6, out_qsize 0\n",
      "2019-09-11 21:32:30,294 : INFO : EPOCH 1 - PROGRESS: at 56.97% examples, 679168 words/s, in_qsize 5, out_qsize 0\n",
      "2019-09-11 21:32:31,299 : INFO : EPOCH 1 - PROGRESS: at 63.32% examples, 689116 words/s, in_qsize 5, out_qsize 0\n",
      "2019-09-11 21:32:32,301 : INFO : EPOCH 1 - PROGRESS: at 69.61% examples, 696905 words/s, in_qsize 5, out_qsize 0\n",
      "2019-09-11 21:32:33,303 : INFO : EPOCH 1 - PROGRESS: at 75.96% examples, 703475 words/s, in_qsize 5, out_qsize 0\n",
      "2019-09-11 21:32:34,311 : INFO : EPOCH 1 - PROGRESS: at 82.25% examples, 708181 words/s, in_qsize 5, out_qsize 0\n",
      "2019-09-11 21:32:35,327 : INFO : EPOCH 1 - PROGRESS: at 88.59% examples, 713088 words/s, in_qsize 5, out_qsize 0\n",
      "2019-09-11 21:32:36,334 : INFO : EPOCH 1 - PROGRESS: at 94.94% examples, 717437 words/s, in_qsize 5, out_qsize 0\n",
      "2019-09-11 21:32:37,343 : INFO : EPOCH 1 - PROGRESS: at 99.82% examples, 710858 words/s, in_qsize 3, out_qsize 0\n",
      "2019-09-11 21:32:37,353 : INFO : worker thread finished; awaiting finish of 2 more threads\n",
      "2019-09-11 21:32:37,358 : INFO : worker thread finished; awaiting finish of 1 more threads\n",
      "2019-09-11 21:32:37,359 : INFO : worker thread finished; awaiting finish of 0 more threads\n",
      "2019-09-11 21:32:37,359 : INFO : EPOCH - 1 : training on 17005207 raw words (12508113 effective words) took 17.6s, 711274 effective words/s\n",
      "2019-09-11 21:32:38,785 : INFO : EPOCH 2 - PROGRESS: at 0.06% examples, 5441 words/s, in_qsize 5, out_qsize 0\n",
      "2019-09-11 21:32:39,788 : INFO : EPOCH 2 - PROGRESS: at 6.17% examples, 316450 words/s, in_qsize 5, out_qsize 0\n",
      "2019-09-11 21:32:40,788 : INFO : EPOCH 2 - PROGRESS: at 12.29% examples, 445508 words/s, in_qsize 5, out_qsize 0\n",
      "2019-09-11 21:32:41,812 : INFO : EPOCH 2 - PROGRESS: at 18.34% examples, 513134 words/s, in_qsize 5, out_qsize 0\n",
      "2019-09-11 21:32:42,820 : INFO : EPOCH 2 - PROGRESS: at 24.40% examples, 557761 words/s, in_qsize 5, out_qsize 0\n",
      "2019-09-11 21:32:43,821 : INFO : EPOCH 2 - PROGRESS: at 30.39% examples, 588840 words/s, in_qsize 5, out_qsize 0\n",
      "2019-09-11 21:32:44,831 : INFO : EPOCH 2 - PROGRESS: at 36.33% examples, 609877 words/s, in_qsize 5, out_qsize 0\n",
      "2019-09-11 21:32:45,832 : INFO : EPOCH 2 - PROGRESS: at 42.33% examples, 626411 words/s, in_qsize 5, out_qsize 0\n",
      "2019-09-11 21:32:46,839 : INFO : EPOCH 2 - PROGRESS: at 48.32% examples, 639416 words/s, in_qsize 5, out_qsize 0\n",
      "2019-09-11 21:32:47,845 : INFO : EPOCH 2 - PROGRESS: at 54.32% examples, 649950 words/s, in_qsize 5, out_qsize 0\n",
      "2019-09-11 21:32:48,849 : INFO : EPOCH 2 - PROGRESS: at 60.38% examples, 659318 words/s, in_qsize 5, out_qsize 0\n",
      "2019-09-11 21:32:49,866 : INFO : EPOCH 2 - PROGRESS: at 66.37% examples, 665713 words/s, in_qsize 5, out_qsize 0\n",
      "2019-09-11 21:32:50,866 : INFO : EPOCH 2 - PROGRESS: at 72.37% examples, 672195 words/s, in_qsize 5, out_qsize 0\n",
      "2019-09-11 21:32:51,879 : INFO : EPOCH 2 - PROGRESS: at 78.48% examples, 676874 words/s, in_qsize 5, out_qsize 0\n",
      "2019-09-11 21:32:52,900 : INFO : EPOCH 2 - PROGRESS: at 84.66% examples, 681942 words/s, in_qsize 5, out_qsize 0\n",
      "2019-09-11 21:32:53,911 : INFO : EPOCH 2 - PROGRESS: at 90.83% examples, 687022 words/s, in_qsize 5, out_qsize 0\n",
      "2019-09-11 21:32:54,919 : INFO : EPOCH 2 - PROGRESS: at 96.88% examples, 690413 words/s, in_qsize 5, out_qsize 0\n",
      "2019-09-11 21:32:55,648 : INFO : worker thread finished; awaiting finish of 2 more threads\n",
      "2019-09-11 21:32:55,649 : INFO : worker thread finished; awaiting finish of 1 more threads\n",
      "2019-09-11 21:32:55,654 : INFO : worker thread finished; awaiting finish of 0 more threads\n",
      "2019-09-11 21:32:55,655 : INFO : EPOCH - 2 : training on 17005207 raw words (12507009 effective words) took 18.3s, 683702 effective words/s\n",
      "2019-09-11 21:32:57,103 : INFO : EPOCH 3 - PROGRESS: at 0.06% examples, 5342 words/s, in_qsize 5, out_qsize 0\n",
      "2019-09-11 21:32:58,113 : INFO : EPOCH 3 - PROGRESS: at 6.23% examples, 315276 words/s, in_qsize 5, out_qsize 0\n",
      "2019-09-11 21:32:59,114 : INFO : EPOCH 3 - PROGRESS: at 12.29% examples, 441367 words/s, in_qsize 5, out_qsize 0\n",
      "2019-09-11 21:33:00,118 : INFO : EPOCH 3 - PROGRESS: at 18.34% examples, 511649 words/s, in_qsize 5, out_qsize 0\n",
      "2019-09-11 21:33:01,143 : INFO : EPOCH 3 - PROGRESS: at 24.46% examples, 556203 words/s, in_qsize 5, out_qsize 0\n",
      "2019-09-11 21:33:02,149 : INFO : EPOCH 3 - PROGRESS: at 30.45% examples, 586854 words/s, in_qsize 5, out_qsize 0\n",
      "2019-09-11 21:33:03,153 : INFO : EPOCH 3 - PROGRESS: at 36.45% examples, 609615 words/s, in_qsize 5, out_qsize 0\n",
      "2019-09-11 21:33:04,158 : INFO : EPOCH 3 - PROGRESS: at 42.45% examples, 626016 words/s, in_qsize 5, out_qsize 0\n",
      "2019-09-11 21:33:05,161 : INFO : EPOCH 3 - PROGRESS: at 48.44% examples, 639110 words/s, in_qsize 5, out_qsize 0\n",
      "2019-09-11 21:33:06,168 : INFO : EPOCH 3 - PROGRESS: at 54.44% examples, 649790 words/s, in_qsize 5, out_qsize 0\n",
      "2019-09-11 21:33:07,173 : INFO : EPOCH 3 - PROGRESS: at 60.44% examples, 658476 words/s, in_qsize 5, out_qsize 0\n",
      "2019-09-11 21:33:08,174 : INFO : EPOCH 3 - PROGRESS: at 66.43% examples, 665729 words/s, in_qsize 5, out_qsize 0\n",
      "2019-09-11 21:33:09,180 : INFO : EPOCH 3 - PROGRESS: at 72.49% examples, 672418 words/s, in_qsize 5, out_qsize 0\n",
      "2019-09-11 21:33:10,187 : INFO : EPOCH 3 - PROGRESS: at 78.42% examples, 675863 words/s, in_qsize 5, out_qsize 0\n",
      "2019-09-11 21:33:11,187 : INFO : EPOCH 3 - PROGRESS: at 84.42% examples, 680503 words/s, in_qsize 5, out_qsize 0\n",
      "2019-09-11 21:33:12,189 : INFO : EPOCH 3 - PROGRESS: at 90.48% examples, 685224 words/s, in_qsize 5, out_qsize 0\n",
      "2019-09-11 21:33:13,192 : INFO : EPOCH 3 - PROGRESS: at 96.47% examples, 688433 words/s, in_qsize 5, out_qsize 0\n",
      "2019-09-11 21:33:13,977 : INFO : worker thread finished; awaiting finish of 2 more threads\n",
      "2019-09-11 21:33:13,983 : INFO : worker thread finished; awaiting finish of 1 more threads\n"
     ]
    },
    {
     "name": "stderr",
     "output_type": "stream",
     "text": [
      "2019-09-11 21:33:13,986 : INFO : worker thread finished; awaiting finish of 0 more threads\n",
      "2019-09-11 21:33:13,987 : INFO : EPOCH - 3 : training on 17005207 raw words (12508116 effective words) took 18.3s, 682379 effective words/s\n",
      "2019-09-11 21:33:15,427 : INFO : EPOCH 4 - PROGRESS: at 0.06% examples, 5400 words/s, in_qsize 5, out_qsize 0\n",
      "2019-09-11 21:33:16,432 : INFO : EPOCH 4 - PROGRESS: at 6.35% examples, 322469 words/s, in_qsize 5, out_qsize 0\n",
      "2019-09-11 21:33:17,433 : INFO : EPOCH 4 - PROGRESS: at 12.64% examples, 455601 words/s, in_qsize 5, out_qsize 0\n",
      "2019-09-11 21:33:18,445 : INFO : EPOCH 4 - PROGRESS: at 18.58% examples, 518903 words/s, in_qsize 5, out_qsize 0\n",
      "2019-09-11 21:33:19,448 : INFO : EPOCH 4 - PROGRESS: at 24.16% examples, 552481 words/s, in_qsize 5, out_qsize 0\n",
      "2019-09-11 21:33:20,451 : INFO : EPOCH 4 - PROGRESS: at 29.98% examples, 580547 words/s, in_qsize 5, out_qsize 0\n",
      "2019-09-11 21:33:21,457 : INFO : EPOCH 4 - PROGRESS: at 35.74% examples, 599948 words/s, in_qsize 5, out_qsize 0\n",
      "2019-09-11 21:33:22,462 : INFO : EPOCH 4 - PROGRESS: at 41.21% examples, 609542 words/s, in_qsize 5, out_qsize 0\n",
      "2019-09-11 21:33:23,463 : INFO : EPOCH 4 - PROGRESS: at 47.38% examples, 627234 words/s, in_qsize 5, out_qsize 0\n",
      "2019-09-11 21:33:24,464 : INFO : EPOCH 4 - PROGRESS: at 53.09% examples, 635678 words/s, in_qsize 5, out_qsize 0\n",
      "2019-09-11 21:33:25,466 : INFO : EPOCH 4 - PROGRESS: at 58.14% examples, 635398 words/s, in_qsize 5, out_qsize 0\n",
      "2019-09-11 21:33:26,468 : INFO : EPOCH 4 - PROGRESS: at 62.20% examples, 625133 words/s, in_qsize 5, out_qsize 0\n",
      "2019-09-11 21:33:27,472 : INFO : EPOCH 4 - PROGRESS: at 67.02% examples, 623424 words/s, in_qsize 5, out_qsize 0\n",
      "2019-09-11 21:33:28,474 : INFO : EPOCH 4 - PROGRESS: at 73.07% examples, 632862 words/s, in_qsize 5, out_qsize 0\n",
      "2019-09-11 21:33:29,476 : INFO : EPOCH 4 - PROGRESS: at 79.48% examples, 642520 words/s, in_qsize 5, out_qsize 0\n",
      "2019-09-11 21:33:30,478 : INFO : EPOCH 4 - PROGRESS: at 85.71% examples, 650653 words/s, in_qsize 5, out_qsize 0\n",
      "2019-09-11 21:33:31,504 : INFO : EPOCH 4 - PROGRESS: at 91.42% examples, 653194 words/s, in_qsize 6, out_qsize 1\n",
      "2019-09-11 21:33:32,512 : INFO : EPOCH 4 - PROGRESS: at 97.71% examples, 659840 words/s, in_qsize 6, out_qsize 0\n",
      "2019-09-11 21:33:33,098 : INFO : worker thread finished; awaiting finish of 2 more threads\n",
      "2019-09-11 21:33:33,100 : INFO : worker thread finished; awaiting finish of 1 more threads\n",
      "2019-09-11 21:33:33,104 : INFO : worker thread finished; awaiting finish of 0 more threads\n",
      "2019-09-11 21:33:33,105 : INFO : EPOCH - 4 : training on 17005207 raw words (12507224 effective words) took 19.1s, 654270 effective words/s\n",
      "2019-09-11 21:33:34,547 : INFO : EPOCH 5 - PROGRESS: at 0.06% examples, 5366 words/s, in_qsize 5, out_qsize 0\n",
      "2019-09-11 21:33:35,556 : INFO : EPOCH 5 - PROGRESS: at 5.88% examples, 298767 words/s, in_qsize 5, out_qsize 0\n",
      "2019-09-11 21:33:36,561 : INFO : EPOCH 5 - PROGRESS: at 11.76% examples, 422454 words/s, in_qsize 5, out_qsize 0\n",
      "2019-09-11 21:33:37,572 : INFO : EPOCH 5 - PROGRESS: at 17.58% examples, 489951 words/s, in_qsize 5, out_qsize 0\n",
      "2019-09-11 21:33:38,572 : INFO : EPOCH 5 - PROGRESS: at 23.22% examples, 529878 words/s, in_qsize 5, out_qsize 0\n",
      "2019-09-11 21:33:39,580 : INFO : EPOCH 5 - PROGRESS: at 28.98% examples, 559737 words/s, in_qsize 5, out_qsize 0\n",
      "2019-09-11 21:33:40,581 : INFO : EPOCH 5 - PROGRESS: at 34.51% examples, 578478 words/s, in_qsize 5, out_qsize 0\n",
      "2019-09-11 21:33:41,585 : INFO : EPOCH 5 - PROGRESS: at 40.15% examples, 593559 words/s, in_qsize 5, out_qsize 0\n",
      "2019-09-11 21:33:42,591 : INFO : EPOCH 5 - PROGRESS: at 45.80% examples, 605345 words/s, in_qsize 5, out_qsize 0\n",
      "2019-09-11 21:33:43,596 : INFO : EPOCH 5 - PROGRESS: at 51.44% examples, 614930 words/s, in_qsize 5, out_qsize 0\n",
      "2019-09-11 21:33:44,608 : INFO : EPOCH 5 - PROGRESS: at 57.26% examples, 624418 words/s, in_qsize 5, out_qsize 0\n",
      "2019-09-11 21:33:45,613 : INFO : EPOCH 5 - PROGRESS: at 63.08% examples, 632651 words/s, in_qsize 5, out_qsize 0\n",
      "2019-09-11 21:33:46,615 : INFO : EPOCH 5 - PROGRESS: at 68.84% examples, 639236 words/s, in_qsize 5, out_qsize 0\n",
      "2019-09-11 21:33:47,626 : INFO : EPOCH 5 - PROGRESS: at 74.66% examples, 645034 words/s, in_qsize 5, out_qsize 0\n",
      "2019-09-11 21:33:48,627 : INFO : EPOCH 5 - PROGRESS: at 80.54% examples, 649572 words/s, in_qsize 5, out_qsize 0\n",
      "2019-09-11 21:33:49,634 : INFO : EPOCH 5 - PROGRESS: at 86.36% examples, 654005 words/s, in_qsize 5, out_qsize 0\n",
      "2019-09-11 21:33:50,669 : INFO : EPOCH 5 - PROGRESS: at 92.06% examples, 655927 words/s, in_qsize 6, out_qsize 1\n",
      "2019-09-11 21:33:51,678 : INFO : EPOCH 5 - PROGRESS: at 97.59% examples, 657288 words/s, in_qsize 5, out_qsize 0\n",
      "2019-09-11 21:33:52,325 : INFO : worker thread finished; awaiting finish of 2 more threads\n",
      "2019-09-11 21:33:52,330 : INFO : worker thread finished; awaiting finish of 1 more threads\n",
      "2019-09-11 21:33:52,337 : INFO : worker thread finished; awaiting finish of 0 more threads\n",
      "2019-09-11 21:33:52,338 : INFO : EPOCH - 5 : training on 17005207 raw words (12506432 effective words) took 19.2s, 650320 effective words/s\n",
      "2019-09-11 21:33:52,338 : INFO : training on a 85026035 raw words (62536894 effective words) took 92.6s, 675596 effective words/s\n",
      "2019-09-11 21:33:52,339 : INFO : saving Word2Vec object under world2vec.model, separately None\n",
      "2019-09-11 21:33:52,339 : INFO : storing np array 'vectors' to world2vec.model.wv.vectors.npy\n",
      "2019-09-11 21:33:52,416 : INFO : not storing attribute vectors_norm\n",
      "2019-09-11 21:33:52,417 : INFO : storing np array 'syn1neg' to world2vec.model.trainables.syn1neg.npy\n",
      "2019-09-11 21:33:52,492 : INFO : not storing attribute cum_table\n",
      "2019-09-11 21:33:52,634 : INFO : saved world2vec.model\n"
     ]
    }
   ],
   "source": [
    "logging.basicConfig(format='%(asctime)s : %(levelname)s : %(message)s', level=logging.INFO)\n",
    "sentences = word2vec.LineSentence('text8')\n",
    "model = word2vec.Word2Vec(sentences, size=300)\n",
    "model.save('world2vec.model')"
   ]
  },
  {
   "cell_type": "code",
   "execution_count": 3,
   "metadata": {},
   "outputs": [
    {
     "name": "stderr",
     "output_type": "stream",
     "text": [
      "C:\\Users\\MrBonBon\\Miniconda3\\lib\\site-packages\\ipykernel_launcher.py:1: DeprecationWarning: Call to deprecated `most_similar` (Method will be removed in 4.0.0, use self.wv.most_similar() instead).\n",
      "  \"\"\"Entry point for launching an IPython kernel.\n",
      "2019-09-11 21:35:47,058 : INFO : precomputing L2-norms of word weight vectors\n"
     ]
    },
    {
     "name": "stdout",
     "output_type": "stream",
     "text": [
      "loving:0.6766234636306763\n",
      "affection:0.6268487572669983\n",
      "grace:0.6086349487304688\n",
      "me:0.5979498624801636\n",
      "shame:0.5954170227050781\n",
      "thee:0.5933946371078491\n",
      "passion:0.5895865559577942\n",
      "kiss:0.5870526432991028\n",
      "courage:0.5854494571685791\n",
      "praise:0.5784293413162231\n"
     ]
    }
   ],
   "source": [
    "res = model.most_similar('love', topn = 10)\n",
    "for item in res:\n",
    "    print(item[0] + ':' + str(item[1]))"
   ]
  },
  {
   "cell_type": "code",
   "execution_count": 7,
   "metadata": {},
   "outputs": [
    {
     "name": "stdout",
     "output_type": "stream",
     "text": [
      "King AND Queen ; LIKE Man AND... \n",
      "elizabeth: 0.5758429765701294\n",
      "prince: 0.5752467513084412\n",
      "burgundy: 0.5582802295684814\n",
      "aragon: 0.5577951669692993\n",
      "regent: 0.549538254737854\n",
      "dukes: 0.5455438494682312\n",
      "duke: 0.5453765392303467\n",
      "vii: 0.5442549586296082\n",
      "kings: 0.5358465909957886\n",
      "throne: 0.531024694442749\n"
     ]
    },
    {
     "name": "stderr",
     "output_type": "stream",
     "text": [
      "C:\\Users\\MrBonBon\\Miniconda3\\lib\\site-packages\\ipykernel_launcher.py:2: DeprecationWarning: Call to deprecated `most_similar` (Method will be removed in 4.0.0, use self.wv.most_similar() instead).\n",
      "  \n"
     ]
    }
   ],
   "source": [
    "print('%s AND %s ; LIKE %s AND... ' %('King', 'Queen', 'Man'))\n",
    "res = model.most_similar(['king','queen'], ['man'], topn = 10)\n",
    "for item in res:\n",
    "    print(item[0] + ': ' + str(item[1]))"
   ]
  },
  {
   "cell_type": "code",
   "execution_count": 10,
   "metadata": {},
   "outputs": [
    {
     "name": "stdout",
     "output_type": "stream",
     "text": [
      "CAlculate Cosine Similarity for King and Queen: 0.6513279346111677\n"
     ]
    }
   ],
   "source": [
    "res = model.wv.similarity('king', 'queen')\n",
    "print('CAlculate Cosine Similarity for King and Queen: %s' %res)"
   ]
  }
 ],
 "metadata": {
  "kernelspec": {
   "display_name": "Python 3",
   "language": "python",
   "name": "python3"
  },
  "language_info": {
   "codemirror_mode": {
    "name": "ipython",
    "version": 3
   },
   "file_extension": ".py",
   "mimetype": "text/x-python",
   "name": "python",
   "nbconvert_exporter": "python",
   "pygments_lexer": "ipython3",
   "version": "3.7.3"
  }
 },
 "nbformat": 4,
 "nbformat_minor": 2
}
